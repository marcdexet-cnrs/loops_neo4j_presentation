{
 "cells": [
  {
   "cell_type": "markdown",
   "metadata": {},
   "source": [
    "## Jeu de données\n",
    "Un labo avec des projets, des services et des personnes"
   ]
  },
  {
   "cell_type": "code",
   "execution_count": 1,
   "metadata": {},
   "outputs": [
    {
     "data": {
      "text/plain": [
       "['Alpha', 'Cymbal', 'Tigre', 'Csw2000', 'Gringalet']"
      ]
     },
     "execution_count": 1,
     "metadata": {},
     "output_type": "execute_result"
    }
   ],
   "source": [
    "import json \n",
    "with open('data/lab2000.json','r') as f:\n",
    "    lab = json.load(f)\n",
    "\n",
    "# Liste des projets\n",
    "lab['projects']"
   ]
  },
  {
   "cell_type": "code",
   "execution_count": 2,
   "metadata": {},
   "outputs": [
    {
     "data": {
      "text/plain": [
       "['Electronique', 'Informatique', 'Optique', 'Mécanique']"
      ]
     },
     "execution_count": 2,
     "metadata": {},
     "output_type": "execute_result"
    }
   ],
   "source": [
    "# Liste des services\n",
    "lab['services']"
   ]
  },
  {
   "cell_type": "code",
   "execution_count": 3,
   "metadata": {},
   "outputs": [
    {
     "name": "stdout",
     "output_type": "stream",
     "text": [
      "[\n",
      "    {\n",
      "        \"name\": \"Arlette Bienvenue\",\n",
      "        \"projects\": [\n",
      "            {\n",
      "                \"function\": \"developpeur\",\n",
      "                \"name\": \"Alpha\"\n",
      "            }\n",
      "        ],\n",
      "        \"service\": \"Electronique\"\n",
      "    },\n",
      "    {\n",
      "        \"name\": \"Roxanne Brochu\",\n",
      "        \"projects\": [],\n",
      "        \"service\": \"Informatique\"\n",
      "    }\n",
      "]\n"
     ]
    }
   ],
   "source": [
    "# Liste des personnes (les 3 premières)\n",
    "print(json.dumps(lab['persons'][1:3], indent=4, sort_keys=True))"
   ]
  },
  {
   "cell_type": "markdown",
   "metadata": {},
   "source": [
    "# Neo4j - Python\n",
    "\n",
    "## Jouons avec le driver officiel neo4j python\n",
    "\n",
    "Le documentation est ici (version 1.7)\n",
    "\n",
    "https://neo4j.com/docs/api/python-driver/1.7-preview/\n",
    "\n",
    "## Concepts de base\n",
    "\n",
    "- Un driver gère toutes les interactions avec la base\n",
    "- Ces interactions se déroulent dans le cadre d'une session fournie par le driver\n",
    "- les modifications se déroule au sein d'une transaction fournie par la session\n",
    "\n",
    "```\n",
    "driver        session        transaction\n",
    " |               |               |               \n",
    " | session()     |               |\n",
    " |-------------->|               |\n",
    " |               |   begin()     |               \n",
    " |               |-------------->|               \n",
    " |               |               |               \n",
    " |               |               |----+            \n",
    " |               |               |   write something\n",
    " |               |               |<---+           \n",
    " |               |               |               \n",
    " |               |               |----+           \n",
    " |               |               |  commit()     \n",
    " |               |               |<---+           \n",
    " |               |               |               \n",
    " |               |               |----+\n",
    " |               |               | close()              \n",
    " |               |               |<---+               \n",
    " |               |               |               \n",
    "```\n",
    "\n",
    "\n",
    "\n",
    "## Interactions avec la base\n",
    "* Instancier un driver\n",
    "* Obtenir une session"
   ]
  },
  {
   "cell_type": "code",
   "execution_count": 4,
   "metadata": {},
   "outputs": [],
   "source": [
    "from neo4j.v1 import GraphDatabase\n",
    "\n",
    "driver = GraphDatabase.driver('bolt://localhost:7687')"
   ]
  },
  {
   "cell_type": "markdown",
   "metadata": {},
   "source": [
    "## Modification\n",
    "* Ouverture d'une transaction pour modifier\n",
    " * modification\n",
    " * commit ou rollback"
   ]
  },
  {
   "cell_type": "markdown",
   "metadata": {},
   "source": [
    "### Création des noeuds\n",
    "\n",
    "D'une façon conventionelle, puis d'une façon plus pythonique."
   ]
  },
  {
   "cell_type": "code",
   "execution_count": 5,
   "metadata": {},
   "outputs": [],
   "source": [
    "def create_nodes_classic_way(label, data, driver):\n",
    "    \n",
    "    # -- Obtention session --\n",
    "    session = driver.session()\n",
    "    \n",
    "    # -- Obention transaction --\n",
    "    tx = session.begin_transaction()\n",
    "    \n",
    "    for name in data:\n",
    "        tx.run('CREATE (:'+label+' {name : {name}})', name=name)\n",
    "    \n",
    "    #-- commit --\n",
    "    tx.commit()\n",
    "    # -- fermeture de la transaction. Elle ne peut être réutilisée.\n",
    "    tx.close()"
   ]
  },
  {
   "cell_type": "code",
   "execution_count": 6,
   "metadata": {},
   "outputs": [],
   "source": [
    "create_nodes_classic_way('Project', lab['projects'], driver)"
   ]
  },
  {
   "cell_type": "code",
   "execution_count": 8,
   "metadata": {},
   "outputs": [],
   "source": [
    "def create_nodes_pythonic_way(label, data, driver):\n",
    "    \n",
    "    # - mode auto-commit\n",
    "    \n",
    "    with driver.session() as local_session:\n",
    "        for name in data:\n",
    "            print(name)\n",
    "            # -- pas de transaction, directement au niveau de la session\n",
    "            local_session.run('CREATE (:'+label+' {name : {name}})', name=name)"
   ]
  },
  {
   "cell_type": "code",
   "execution_count": 9,
   "metadata": {},
   "outputs": [
    {
     "name": "stdout",
     "output_type": "stream",
     "text": [
      "Electronique\n",
      "Informatique\n",
      "Optique\n",
      "Mécanique\n"
     ]
    }
   ],
   "source": [
    "create_nodes_pythonic_way('Service', lab['services'],driver)"
   ]
  },
  {
   "cell_type": "markdown",
   "metadata": {},
   "source": [
    "### Lecture seule\n",
    "\n",
    "Un simple `Session.run(query)` suffit."
   ]
  },
  {
   "cell_type": "code",
   "execution_count": 10,
   "metadata": {},
   "outputs": [],
   "source": [
    "# - session globale pour le notebook\n",
    "global_session = driver.session()"
   ]
  },
  {
   "cell_type": "markdown",
   "metadata": {},
   "source": [
    "Les résultats sont des `Records` à parcourir."
   ]
  },
  {
   "cell_type": "code",
   "execution_count": 11,
   "metadata": {},
   "outputs": [
    {
     "data": {
      "text/plain": [
       "[<Record labels(n)[0]='Project' n.name='Alpha'>,\n",
       " <Record labels(n)[0]='Project' n.name='Cymbal'>,\n",
       " <Record labels(n)[0]='Project' n.name='Tigre'>,\n",
       " <Record labels(n)[0]='Project' n.name='Csw2000'>,\n",
       " <Record labels(n)[0]='Project' n.name='Gringalet'>,\n",
       " <Record labels(n)[0]='Service' n.name='Electronique'>,\n",
       " <Record labels(n)[0]='Service' n.name='Informatique'>,\n",
       " <Record labels(n)[0]='Service' n.name='Optique'>,\n",
       " <Record labels(n)[0]='Service' n.name='Mécanique'>]"
      ]
     },
     "execution_count": 11,
     "metadata": {},
     "output_type": "execute_result"
    }
   ],
   "source": [
    "[r for r in global_session.run('MATCH (n) RETURN labels(n)[0], n.name')]"
   ]
  },
  {
   "cell_type": "code",
   "execution_count": 12,
   "metadata": {},
   "outputs": [
    {
     "data": {
      "text/plain": [
       "5"
      ]
     },
     "execution_count": 12,
     "metadata": {},
     "output_type": "execute_result"
    }
   ],
   "source": [
    "global_session.run('MATCH (n:Project) RETURN count(n) as nb').single().value()"
   ]
  },
  {
   "cell_type": "markdown",
   "metadata": {},
   "source": [
    "## Résultats en tant qu'entités Graph\n",
    "Pour obtenir les résultats sous forme de \n",
    "* Node\n",
    "* Relationship\n",
    "* Path\n",
    "\n",
    "il faut utiliser la vue `Graph` des `StatementResult`.\n",
    "\n",
    "Au sein de graphes, il est possible d'avoir les noeuds `.nodes` et les relations `.relationships`.\n"
   ]
  },
  {
   "cell_type": "code",
   "execution_count": 13,
   "metadata": {},
   "outputs": [
    {
     "data": {
      "text/plain": [
       "[<Node id=44 labels={'Project'} properties={'name': 'Alpha'}>,\n",
       " <Node id=45 labels={'Project'} properties={'name': 'Cymbal'}>,\n",
       " <Node id=46 labels={'Project'} properties={'name': 'Tigre'}>,\n",
       " <Node id=47 labels={'Project'} properties={'name': 'Csw2000'}>,\n",
       " <Node id=48 labels={'Project'} properties={'name': 'Gringalet'}>]"
      ]
     },
     "execution_count": 13,
     "metadata": {},
     "output_type": "execute_result"
    }
   ],
   "source": [
    "[r for r in global_session.run('MATCH (n:Project) RETURN n').graph().nodes]"
   ]
  },
  {
   "cell_type": "markdown",
   "metadata": {},
   "source": [
    "### Création de relations"
   ]
  },
  {
   "cell_type": "markdown",
   "metadata": {},
   "source": [
    "**(:Person)-\\[:MEMBER_OF\\]->(:Service)**"
   ]
  },
  {
   "cell_type": "code",
   "execution_count": 14,
   "metadata": {},
   "outputs": [],
   "source": [
    "query ='''\n",
    "MATCH (s:Service {name: {service}}) \n",
    "CREATE (p:Person {name: {name}})\n",
    "CREATE (p)-[:MEMBER_OF]->(s)'''\n",
    "\n",
    "with driver.session() as session:\n",
    "    for p in lab['persons']:\n",
    "        session.run(query, name=p['name'],service=p['service'])"
   ]
  },
  {
   "cell_type": "markdown",
   "metadata": {},
   "source": [
    "**(:Person)-\\[:WORK_IN \\{function=$function}\\]->(:Project)**"
   ]
  },
  {
   "cell_type": "code",
   "execution_count": 15,
   "metadata": {},
   "outputs": [],
   "source": [
    "subquery = '''\n",
    "MATCH (pers:Person {name: {name}}),(project:Project {name: {project}})\n",
    "MERGE (pers)-[:WORK_IN{function: {function}} ]->(project)'''\n",
    "        \n",
    "with driver.session() as session:\n",
    "    for person in lab['persons']:        \n",
    "        for project in person['projects']:\n",
    "            session.run(subquery,\n",
    "                       name=person['name'],\n",
    "                       project=project['name'],\n",
    "                       function=project['function'])"
   ]
  },
  {
   "cell_type": "code",
   "execution_count": 16,
   "metadata": {},
   "outputs": [
    {
     "name": "stdout",
     "output_type": "stream",
     "text": [
      "dict_items([('function', 'expert')])\n",
      "WORK_IN\n",
      "<Node id=17 labels={'Person'} properties={'name': 'Leone Bienvenue'}>\n",
      "<Node id=44 labels={'Project'} properties={'name': 'Alpha'}>\n",
      "---\n",
      "dict_items([('function', 'utilisateur')])\n",
      "WORK_IN\n",
      "<Node id=16 labels={'Person'} properties={'name': 'Édith Audet'}>\n",
      "<Node id=44 labels={'Project'} properties={'name': 'Alpha'}>\n",
      "---\n",
      "dict_items([('function', 'expert')])\n",
      "WORK_IN\n",
      "<Node id=14 labels={'Person'} properties={'name': 'Mireille Audet'}>\n",
      "<Node id=44 labels={'Project'} properties={'name': 'Alpha'}>\n",
      "---\n",
      "dict_items([('function', 'utilisateur')])\n",
      "WORK_IN\n",
      "<Node id=13 labels={'Person'} properties={'name': 'Andrée Laforest'}>\n",
      "<Node id=44 labels={'Project'} properties={'name': 'Alpha'}>\n",
      "---\n",
      "dict_items([('function', 'chefDeProjet')])\n",
      "WORK_IN\n",
      "<Node id=9 labels={'Person'} properties={'name': 'Marphisa Brochu'}>\n",
      "<Node id=44 labels={'Project'} properties={'name': 'Alpha'}>\n",
      "---\n"
     ]
    }
   ],
   "source": [
    "with driver.session() as session:\n",
    "    records = session.run('MATCH (n)-[r:WORK_IN]->(p) return n,r,p')\n",
    "    \n",
    "# - les 5 premiers\n",
    "for relation in list(records.graph().relationships)[0:5]:\n",
    "    print(relation.items())\n",
    "    print(relation.type)\n",
    "    print(relation.start_node)\n",
    "    print(relation.end_node)\n",
    "    print('---')"
   ]
  },
  {
   "cell_type": "markdown",
   "metadata": {},
   "source": [
    "### La liste des personnes qui ne sont pas associées à un projet"
   ]
  },
  {
   "cell_type": "code",
   "execution_count": 17,
   "metadata": {},
   "outputs": [
    {
     "name": "stdout",
     "output_type": "stream",
     "text": [
      "Statement MATCH (p:Person)-[:MEMBER_OF]->(s) \n",
      "    WHERE NOT (p)-[:WORK_IN]->(:Project) \n",
      "    RETURN p.name AS name, s.name AS service after 1 ms\n"
     ]
    },
    {
     "data": {
      "text/plain": [
       "['Person : Lotye Cousteau, Service: Informatique',\n",
       " 'Person : Carine Laforest, Service: Informatique',\n",
       " 'Person : Matilda Audet, Service: Mécanique',\n",
       " 'Person : Inès Cousteau, Service: Informatique',\n",
       " 'Person : Agathe Desnoyers, Service: Electronique',\n",
       " 'Person : Valentine Brochu, Service: Electronique',\n",
       " 'Person : Roxanne Brochu, Service: Informatique']"
      ]
     },
     "execution_count": 17,
     "metadata": {},
     "output_type": "execute_result"
    }
   ],
   "source": [
    "with driver.session() as session:\n",
    "    query= '''MATCH (p:Person)-[:MEMBER_OF]->(s) \n",
    "    WHERE NOT (p)-[:WORK_IN]->(:Project) \n",
    "    RETURN p.name AS name, s.name AS service'''\n",
    "    records = session.run(query)\n",
    "    \n",
    "print(f'Statement {records.summary().statement} after {records.summary().result_available_after} ms' )\n",
    "\n",
    "[ f\"Person : {r['name']}, Service: {r['service']}\" for r in records]\n"
   ]
  },
  {
   "cell_type": "markdown",
   "metadata": {},
   "source": [
    "# Avec py2no\n",
    "\n",
    "py2neo est un wrapper autour du driver neo4j.\n",
    "\n",
    "Il simplifie la vie et s'intégre très bien avec plusieurs librairies communes Python"
   ]
  },
  {
   "cell_type": "code",
   "execution_count": 18,
   "metadata": {},
   "outputs": [],
   "source": [
    "from py2neo import Graph, Node, Relationship\n",
    "\n",
    "graph = Graph()"
   ]
  },
  {
   "cell_type": "markdown",
   "metadata": {},
   "source": [
    "### Avec Pandas"
   ]
  },
  {
   "cell_type": "code",
   "execution_count": 19,
   "metadata": {
    "scrolled": true
   },
   "outputs": [
    {
     "data": {
      "text/html": [
       "<div>\n",
       "<style scoped>\n",
       "    .dataframe tbody tr th:only-of-type {\n",
       "        vertical-align: middle;\n",
       "    }\n",
       "\n",
       "    .dataframe tbody tr th {\n",
       "        vertical-align: top;\n",
       "    }\n",
       "\n",
       "    .dataframe thead th {\n",
       "        text-align: right;\n",
       "    }\n",
       "</style>\n",
       "<table border=\"1\" class=\"dataframe\">\n",
       "  <thead>\n",
       "    <tr style=\"text-align: right;\">\n",
       "      <th></th>\n",
       "      <th>name</th>\n",
       "      <th>service</th>\n",
       "    </tr>\n",
       "  </thead>\n",
       "  <tbody>\n",
       "    <tr>\n",
       "      <th>0</th>\n",
       "      <td>Lotye Cousteau</td>\n",
       "      <td>Informatique</td>\n",
       "    </tr>\n",
       "    <tr>\n",
       "      <th>1</th>\n",
       "      <td>Carine Laforest</td>\n",
       "      <td>Informatique</td>\n",
       "    </tr>\n",
       "    <tr>\n",
       "      <th>2</th>\n",
       "      <td>Matilda Audet</td>\n",
       "      <td>Mécanique</td>\n",
       "    </tr>\n",
       "    <tr>\n",
       "      <th>3</th>\n",
       "      <td>Inès Cousteau</td>\n",
       "      <td>Informatique</td>\n",
       "    </tr>\n",
       "    <tr>\n",
       "      <th>4</th>\n",
       "      <td>Agathe Desnoyers</td>\n",
       "      <td>Electronique</td>\n",
       "    </tr>\n",
       "    <tr>\n",
       "      <th>5</th>\n",
       "      <td>Valentine Brochu</td>\n",
       "      <td>Electronique</td>\n",
       "    </tr>\n",
       "    <tr>\n",
       "      <th>6</th>\n",
       "      <td>Roxanne Brochu</td>\n",
       "      <td>Informatique</td>\n",
       "    </tr>\n",
       "  </tbody>\n",
       "</table>\n",
       "</div>"
      ],
      "text/plain": [
       "               name       service\n",
       "0    Lotye Cousteau  Informatique\n",
       "1   Carine Laforest  Informatique\n",
       "2     Matilda Audet     Mécanique\n",
       "3     Inès Cousteau  Informatique\n",
       "4  Agathe Desnoyers  Electronique\n",
       "5  Valentine Brochu  Electronique\n",
       "6    Roxanne Brochu  Informatique"
      ]
     },
     "execution_count": 19,
     "metadata": {},
     "output_type": "execute_result"
    }
   ],
   "source": [
    "query= '''MATCH (p:Person)-[:MEMBER_OF]->(s) \n",
    "WHERE NOT (p)-[:WORK_IN]->(:Project) \n",
    "RETURN p.name AS name, s.name AS service'''\n",
    "\n",
    "graph.run(query).to_data_frame()"
   ]
  },
  {
   "cell_type": "markdown",
   "metadata": {},
   "source": [
    "### Avec Numpy"
   ]
  },
  {
   "cell_type": "code",
   "execution_count": 20,
   "metadata": {},
   "outputs": [
    {
     "data": {
      "text/plain": [
       "array([['Lotye Cousteau', 'Informatique'],\n",
       "       ['Carine Laforest', 'Informatique'],\n",
       "       ['Matilda Audet', 'Mécanique'],\n",
       "       ['Inès Cousteau', 'Informatique'],\n",
       "       ['Agathe Desnoyers', 'Electronique'],\n",
       "       ['Valentine Brochu', 'Electronique'],\n",
       "       ['Roxanne Brochu', 'Informatique']], dtype='<U16')"
      ]
     },
     "execution_count": 20,
     "metadata": {},
     "output_type": "execute_result"
    }
   ],
   "source": [
    "graph.run(query).to_ndarray()"
   ]
  },
  {
   "cell_type": "markdown",
   "metadata": {},
   "source": [
    "## Manipulations Graphiques\n",
    "\n",
    "py2neo permet de manipuler le graphe directement en terme de Node, Relationship.\n",
    "\n",
    "Le graphe est modifié localement avant de mettre à jour la base à travers des _push_ et des _pull_."
   ]
  },
  {
   "cell_type": "code",
   "execution_count": 21,
   "metadata": {},
   "outputs": [],
   "source": [
    "# - Création de la ville d'orsay\n",
    "city = Node('City', name='Orsay')\n",
    "\n",
    "# - merge en matchant sur le label 'City' et la clef 'name'\n",
    "graph.merge(city, 'City','name')"
   ]
  },
  {
   "cell_type": "code",
   "execution_count": 22,
   "metadata": {},
   "outputs": [
    {
     "name": "stdout",
     "output_type": "stream",
     "text": [
      "(_57:Person {name: 'Roxanne Brochu'}) <class 'py2neo.data.Node'>\n"
     ]
    }
   ],
   "source": [
    "# - recherche du noeud (roxane)\n",
    "roxanne = graph.nodes.match(\"Person\", name='Roxanne Brochu').first()\n",
    "\n",
    "print(roxanne, type(roxanne))\n",
    "\n",
    "# - mise en relation avec la ville\n",
    "liveIn = Relationship(roxanne, \"lIVE_IN\", city)\n",
    "\n",
    "# - CREATION de la relation\n",
    "graph.create(liveIn)\n"
   ]
  },
  {
   "cell_type": "code",
   "execution_count": 23,
   "metadata": {},
   "outputs": [],
   "source": [
    "# - Recherche du service informatique\n",
    "\n",
    "serviceInfo = graph.nodes.match('Service', name='Informatique').first()\n",
    "\n",
    "# - recherche de la relation entre carine et le service informatique\n",
    "\n",
    "roxanneToInformatique = graph.match((roxanne,), r_type='MEMBER_OF').first()\n",
    "\n",
    "# - Mise à jour locale\n",
    "\n",
    "roxanneToInformatique['function'] = 'chef'\n",
    "\n",
    "# - mise à jour remote \n",
    "graph.push(roxanneToInformatique)"
   ]
  },
  {
   "cell_type": "code",
   "execution_count": 24,
   "metadata": {},
   "outputs": [
    {
     "data": {
      "text/plain": [
       "(Roxanne Brochu)-[:MEMBER_OF {function: 'chef'}]->(Informatique)"
      ]
     },
     "execution_count": 24,
     "metadata": {},
     "output_type": "execute_result"
    }
   ],
   "source": [
    "graph.match((roxanne,), r_type='MEMBER_OF').first()"
   ]
  },
  {
   "cell_type": "markdown",
   "metadata": {},
   "source": [
    "## Mettre à jour le graphe du projet  'Tigre'"
   ]
  },
  {
   "cell_type": "code",
   "execution_count": 38,
   "metadata": {},
   "outputs": [
    {
     "name": "stdout",
     "output_type": "stream",
     "text": [
      "(_14:Person {name: 'Mireille Audet'}) 20\n",
      "(_6:Person {name: 'Val\\u00e9rie Laforest'}) 10\n",
      "(_1:Person {name: 'Josette Laforest'}) 30\n",
      "(_63:Person {name: 'Cosette Audet'}) 60\n",
      "(_62:Person {name: 'Melodie Dubois'}) 50\n",
      "(_61:Person {name: 'Darlene Herman'}) 30\n",
      "(_60:Person {name: 'Heloise Dubois'}) 40\n"
     ]
    }
   ],
   "source": [
    "import random\n",
    "\n",
    "# - récupération duprojet 'tigre'\n",
    "tigerProject = graph.nodes.match('Project', name='Tigre').first()\n",
    "\n",
    "# - récupération des relations (p)->[r:WORK_IN]->(:Project {name: 'Tigre'})\n",
    "relations =list(graph.relationships.match((None,tigerProject),'WORK_IN')) \n",
    "\n",
    "# - Mise à jour d'une charge de travail aléatoire comme en vrai ? :)\n",
    "for rel in relations:\n",
    "    rel['workload'] = random.randint(1,8)*10\n",
    "\n",
    "\n",
    "for rel in graph.relationships.match((None,tigerProject),'WORK_IN'):\n",
    "    print(rel.start_node, rel['workload'])"
   ]
  },
  {
   "cell_type": "markdown",
   "metadata": {},
   "source": [
    "### Regroupement des objet sous forme de Subgraph (conteneur)"
   ]
  },
  {
   "cell_type": "code",
   "execution_count": 39,
   "metadata": {},
   "outputs": [],
   "source": [
    "from py2neo import Subgraph\n",
    "\n",
    "subgraph=Subgraph(relationships=relations)\n",
    "graph.push(subgraph)"
   ]
  },
  {
   "cell_type": "code",
   "execution_count": null,
   "metadata": {},
   "outputs": [],
   "source": [
    "for rel in graph.relationships.match((None,tigerProject),'WORK_IN'):\n",
    "    print(rel.start_node, rel['workload'])"
   ]
  },
  {
   "cell_type": "markdown",
   "metadata": {},
   "source": [
    "## Procédure de nettoyage\n"
   ]
  },
  {
   "cell_type": "code",
   "execution_count": null,
   "metadata": {},
   "outputs": [],
   "source": [
    "import ipywidgets as widgets\n",
    "from ipywidgets import interact\n",
    "\n",
    "checkbox = widgets.ToggleButton(\n",
    "    value=False,\n",
    "    description='DELETE ALL',\n",
    "    disabled=False\n",
    ")\n",
    "\n",
    "def delete_all(b):\n",
    "    if b:\n",
    "        with driver.session() as session:\n",
    "            session.run('MATCH (n) DETACH DELETE n')\n",
    "    \n",
    "            \n",
    "interact(delete_all, b=checkbox)"
   ]
  },
  {
   "cell_type": "code",
   "execution_count": null,
   "metadata": {},
   "outputs": [],
   "source": []
  }
 ],
 "metadata": {
  "kernelspec": {
   "display_name": "Python 3",
   "language": "python",
   "name": "python3"
  },
  "language_info": {
   "codemirror_mode": {
    "name": "ipython",
    "version": 3
   },
   "file_extension": ".py",
   "mimetype": "text/x-python",
   "name": "python",
   "nbconvert_exporter": "python",
   "pygments_lexer": "ipython3",
   "version": "3.6.6"
  }
 },
 "nbformat": 4,
 "nbformat_minor": 2
}
