{
 "cells": [
  {
   "cell_type": "markdown",
   "metadata": {},
   "source": [
    "# Neo4j \n",
    "\n",
    "## Cours 101\n",
    "\n",
    "Concepts de base\n"
   ]
  },
  {
   "cell_type": "code",
   "execution_count": 1,
   "metadata": {},
   "outputs": [],
   "source": [
    "from py2neo import Graph\n",
    "\n",
    "graph = Graph()\n",
    "graph.delete_all()"
   ]
  },
  {
   "cell_type": "code",
   "execution_count": 2,
   "metadata": {},
   "outputs": [
    {
     "data": {
      "text/plain": [
       "<py2neo.database.Cursor at 0x7f0ced019908>"
      ]
     },
     "execution_count": 2,
     "metadata": {},
     "output_type": "execute_result"
    }
   ],
   "source": [
    "query = '''\n",
    "LOAD CSV WITH HEADERS FROM \"https://data.enseignementsup-recherche.gouv.fr/explore/dataset/fr-esr_referentiel_metier_referens_3/download/?format=csv&timezone=Europe/Berlin&use_labels_for_header=true\" AS line FIELDTERMINATOR ';'\n",
    "MERGE \n",
    "(bap:BAP \n",
    "\t{code: line.`Code de la branche d’activité professionnelle`,\n",
    "\t label: line.`Branche d’activité professionnelle`}\n",
    ")\n",
    "MERGE (codeEmploiType:EmploiType {\n",
    "\tcode: line.`Code emploi type`,\n",
    "    label: line.`Intitulé de l’emploi type`\n",
    "})\n",
    "MERGE (codeEmploiType)-[:IS_IN]->(bap)\n",
    "    \n",
    "return bap, codeEmploiType'''\n",
    "graph.run(query)"
   ]
  },
  {
   "cell_type": "code",
   "execution_count": 6,
   "metadata": {},
   "outputs": [
    {
     "data": {
      "text/plain": [
       "['',\n",
       " '/home/mdexet/Workdir/loops_neo4j_presentation/lib/python36.zip',\n",
       " '/home/mdexet/Workdir/loops_neo4j_presentation/lib/python3.6',\n",
       " '/home/mdexet/Workdir/loops_neo4j_presentation/lib/python3.6/lib-dynload',\n",
       " '/usr/lib/python3.6',\n",
       " '/home/mdexet/Workdir/loops_neo4j_presentation/lib/python3.6/site-packages',\n",
       " '/home/mdexet/Workdir/loops_neo4j_presentation/lib/python3.6/site-packages/IPython/extensions',\n",
       " '/home/mdexet/.ipython']"
      ]
     },
     "execution_count": 6,
     "metadata": {},
     "output_type": "execute_result"
    }
   ],
   "source": [
    "import sys\n",
    "sys.path"
   ]
  }
 ],
 "metadata": {
  "kernelspec": {
   "display_name": "Python 3",
   "language": "python",
   "name": "python3"
  },
  "language_info": {
   "codemirror_mode": {
    "name": "ipython",
    "version": 3
   },
   "file_extension": ".py",
   "mimetype": "text/x-python",
   "name": "python",
   "nbconvert_exporter": "python",
   "pygments_lexer": "ipython3",
   "version": "3.6.6"
  }
 },
 "nbformat": 4,
 "nbformat_minor": 2
}
